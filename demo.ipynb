{
 "cells": [
  {
   "cell_type": "code",
   "execution_count": 34,
   "metadata": {},
   "outputs": [],
   "source": [
    "import requests \n",
    "import json\n",
    "ACCESS_TOKEN = \"EAAiHSmlB9M0BO7TR8g0CtErgtfDYRyU45xjOF7kTZBt9G3kScddb0cMdoGS6YICZADjHFXp282BVBr1YBmlw39ZAb3YlqERWHccAfKYDzYnthh8dMhQ4PK2eCcS9xpnrp4ERS3FZBmZCN1McQfrbslApZBMqAAs0x5ZBIwF5dVb7n87ZC2U471yllFvCTUNvNOtJg30frPgRmQKHZBSKZAtH4rNf7FeiZA0GvolfgyTZB97P\"\n"
   ]
  },
  {
   "cell_type": "code",
   "execution_count": 38,
   "metadata": {},
   "outputs": [
    {
     "name": "stdout",
     "output_type": "stream",
     "text": [
      "{\n",
      "    \"data\": [\n",
      "        {\n",
      "            \"id\": \"aWdfZAG06MTpJR01lc3NhZA2VUaHJlYWQ6MTc4NDE0MTAwMDc5ODQ1NDU6MzQwMjgyMzY2ODQxNzEwMzAxMjQ0MjU4Nzc3NDExNTU4MjQ4MjI5\",\n",
      "            \"updated_time\": \"2025-02-03T20:33:19+0000\",\n",
      "            \"messages\": {\n",
      "                \"data\": [\n",
      "                    {\n",
      "                        \"created_time\": \"2025-02-03T20:33:19+0000\",\n",
      "                        \"from\": {\n",
      "                            \"username\": \"takoyakiballzz\",\n",
      "                            \"id\": \"537343562098820\"\n",
      "                        },\n",
      "                        \"message\": \"i want to order a Tshirt size XL\",\n",
      "                        \"id\": \"aWdfZAG1faXRlbToxOklHTWVzc2FnZAUlEOjE3ODQxNDEwMDA3OTg0NTQ1OjM0MDI4MjM2Njg0MTcxMDMwMTI0NDI1ODc3NzQxMTU1ODI0ODIyOTozMjA3MTc4MjI1MTIwMzIyNjI0NzEwNTYwNjQzOTY2NTY2NAZDZD\"\n",
      "                    },\n",
      "                    {\n",
      "                        \"created_time\": \"2025-02-03T19:26:57+0000\",\n",
      "                        \"from\": {\n",
      "                            \"username\": \"takoyakiballzz\",\n",
      "                            \"id\": \"537343562098820\"\n",
      "                        },\n",
      "                        \"message\": \"how r u\",\n",
      "                        \"id\": \"aWdfZAG1faXRlbToxOklHTWVzc2FnZAUlEOjE3ODQxNDEwMDA3OTg0NTQ1OjM0MDI4MjM2Njg0MTcxMDMwMTI0NDI1ODc3NzQxMTU1ODI0ODIyOTozMjA3MTcwODc4NjgxMjgxODg3MTM5MjczNDcyMjEyOTkyMAZDZD\"\n",
      "                    },\n",
      "                    {\n",
      "                        \"created_time\": \"2025-01-31T22:36:05+0000\",\n",
      "                        \"from\": {\n",
      "                            \"username\": \"takoyakiballzz\",\n",
      "                            \"id\": \"537343562098820\"\n",
      "                        },\n",
      "                        \"message\": \"hello\",\n",
      "                        \"id\": \"aWdfZAG1faXRlbToxOklHTWVzc2FnZAUlEOjE3ODQxNDEwMDA3OTg0NTQ1OjM0MDI4MjM2Njg0MTcxMDMwMTI0NDI1ODc3NzQxMTU1ODI0ODIyOTozMjA2NzEzNjczMjY2MTk5OTI1MTUyODI4MTE2MjI1MjI4OAZDZD\"\n",
      "                    },\n",
      "                    {\n",
      "                        \"created_time\": \"2025-01-31T05:29:17+0000\",\n",
      "                        \"from\": {\n",
      "                            \"username\": \"takoyakiballzz\",\n",
      "                            \"id\": \"537343562098820\"\n",
      "                        },\n",
      "                        \"message\": \"yow\",\n",
      "                        \"id\": \"aWdfZAG1faXRlbToxOklHTWVzc2FnZAUlEOjE3ODQxNDEwMDA3OTg0NTQ1OjM0MDI4MjM2Njg0MTcxMDMwMTI0NDI1ODc3NzQxMTU1ODI0ODIyOTozMjA2NjAwMDI1ODMwNTEyMjM1Mjg3MTIyODM5MTI5MjkyOAZDZD\"\n",
      "                    },\n",
      "                    {\n",
      "                        \"created_time\": \"2025-01-31T05:27:29+0000\",\n",
      "                        \"from\": {\n",
      "                            \"username\": \"takoyakiballzz\",\n",
      "                            \"id\": \"537343562098820\"\n",
      "                        },\n",
      "                        \"message\": \"yeo\",\n",
      "                        \"id\": \"aWdfZAG1faXRlbToxOklHTWVzc2FnZAUlEOjE3ODQxNDEwMDA3OTg0NTQ1OjM0MDI4MjM2Njg0MTcxMDMwMTI0NDI1ODc3NzQxMTU1ODI0ODIyOTozMjA2NTk5ODI2NzczMjg4ODg5OTAwOTEyNDg1MTc3NzUzNgZDZD\"\n",
      "                    },\n",
      "                    {\n",
      "                        \"created_time\": \"2025-01-30T16:08:16+0000\",\n",
      "                        \"from\": {\n",
      "                            \"username\": \"braden_wei\",\n",
      "                            \"id\": \"17841410007984545\"\n",
      "                        },\n",
      "                        \"message\": \"\",\n",
      "                        \"id\": \"aWdfZAG1faXRlbToxOklHTWVzc2FnZAUlEOjE3ODQxNDEwMDA3OTg0NTQ1OjM0MDI4MjM2Njg0MTcxMDMwMTI0NDI1ODc3NzQxMTU1ODI0ODIyOTozMjA2NTExMzY4OTIyNDMwNTYwMDE5OTkyOTA0MzYxNTc0NAZDZD\"\n",
      "                    },\n",
      "                    {\n",
      "                        \"created_time\": \"2025-01-30T04:33:47+0000\",\n",
      "                        \"from\": {\n",
      "                            \"username\": \"takoyakiballzz\",\n",
      "                            \"id\": \"537343562098820\"\n",
      "                        },\n",
      "                        \"message\": \"i want to order\",\n",
      "                        \"id\": \"aWdfZAG1faXRlbToxOklHTWVzc2FnZAUlEOjE3ODQxNDEwMDA3OTg0NTQ1OjM0MDI4MjM2Njg0MTcxMDMwMTI0NDI1ODc3NzQxMTU1ODI0ODIyOTozMjA2NDM0NTAzOTY4OTI5MzU4NDcwNzkwMTUxMDkwOTk1MgZDZD\"\n",
      "                    },\n",
      "                    {\n",
      "                        \"created_time\": \"2024-11-22T03:12:39+0000\",\n",
      "                        \"from\": {\n",
      "                            \"username\": \"braden_wei\",\n",
      "                            \"id\": \"17841410007984545\"\n",
      "                        },\n",
      "                        \"message\": \"bradenweii.github.io\",\n",
      "                        \"id\": \"aWdfZAG1faXRlbToxOklHTWVzc2FnZAUlEOjE3ODQxNDEwMDA3OTg0NTQ1OjM0MDI4MjM2Njg0MTcxMDMwMTI0NDI1ODc3NzQxMTU1ODI0ODIyOTozMTk1NDI4MzEyNTk5MTM4OTIzMDMxMTk3NDQ4NDU3NDIwOAZDZD\"\n",
      "                    },\n",
      "                    {\n",
      "                        \"created_time\": \"2024-10-23T21:01:50+0000\",\n",
      "                        \"from\": {\n",
      "                            \"username\": \"braden_wei\",\n",
      "                            \"id\": \"17841410007984545\"\n",
      "                        },\n",
      "                        \"message\": \"Yo\",\n",
      "                        \"id\": \"aWdfZAG1faXRlbToxOklHTWVzc2FnZAUlEOjE3ODQxNDEwMDA3OTg0NTQ1OjM0MDI4MjM2Njg0MTcxMDMwMTI0NDI1ODc3NzQxMTU1ODI0ODIyOTozMTkwNzY1MjU1NDM4NTg1NjAwNDQyNDY0Mjg0NDQyNjI0MAZDZD\"\n",
      "                    },\n",
      "                    {\n",
      "                        \"created_time\": \"2024-10-01T16:19:56+0000\",\n",
      "                        \"from\": {\n",
      "                            \"username\": \"braden_wei\",\n",
      "                            \"id\": \"17841410007984545\"\n",
      "                        },\n",
      "                        \"message\": \"\",\n",
      "                        \"id\": \"aWdfZAG1faXRlbToxOklHTWVzc2FnZAUlEOjE3ODQxNDEwMDA3OTg0NTQ1OjM0MDI4MjM2Njg0MTcxMDMwMTI0NDI1ODc3NzQxMTU1ODI0ODIyOTozMTg3MjI3Njk3NDEyNjA4NDEyMjIwMzg2NjE5MDA1MzM3NgZDZD\"\n",
      "                    }\n",
      "                ]\n",
      "            }\n",
      "        }\n",
      "    ]\n",
      "}\n"
     ]
    }
   ],
   "source": [
    "url = \"https://graph.facebook.com/v22.0/me/conversations\"\n",
    "params = {\n",
    "    \"platform\": \"instagram\",\n",
    "    \"fields\": \"id,updated_time,messages{created_time,from,message}\",\n",
    "    \"access_token\": ACCESS_TOKEN,\n",
    "    \"limit\": 50  # Increase limit\n",
    "}\n",
    "\n",
    "conversations = []\n",
    "\n",
    "\n",
    "response = requests.get(url, params=params)  # Avoid re-sending params for next page\n",
    "data = response.json()\n",
    "\n",
    "url = data.get(\"paging\", {}).get(\"next\")  \n",
    "\n",
    "print(json.dumps(data, indent=4))\n"
   ]
  },
  {
   "cell_type": "code",
   "execution_count": 39,
   "metadata": {},
   "outputs": [
    {
     "name": "stdout",
     "output_type": "stream",
     "text": [
      "['i want to order a Tshirt size XL', 'how r u', 'hello', 'yow', 'yeo', '', 'i want to order', 'bradenweii.github.io', 'Yo', '']\n"
     ]
    }
   ],
   "source": [
    "messages_array = [msg[\"message\"] for msg in data[\"data\"][0][\"messages\"][\"data\"]]\n",
    "print(messages_array)\n",
    "\n"
   ]
  }
 ],
 "metadata": {
  "kernelspec": {
   "display_name": "Python 3",
   "language": "python",
   "name": "python3"
  },
  "language_info": {
   "codemirror_mode": {
    "name": "ipython",
    "version": 3
   },
   "file_extension": ".py",
   "mimetype": "text/x-python",
   "name": "python",
   "nbconvert_exporter": "python",
   "pygments_lexer": "ipython3",
   "version": "3.12.0"
  }
 },
 "nbformat": 4,
 "nbformat_minor": 2
}
